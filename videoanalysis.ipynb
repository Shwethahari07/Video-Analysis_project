{
  "nbformat": 4,
  "nbformat_minor": 0,
  "metadata": {
    "colab": {
      "provenance": [],
      "gpuType": "T4"
    },
    "kernelspec": {
      "name": "python3",
      "display_name": "Python 3"
    },
    "language_info": {
      "name": "python"
    },
    "accelerator": "GPU"
  },
  "cells": [
    {
      "cell_type": "code",
      "execution_count": 40,
      "metadata": {
        "colab": {
          "base_uri": "https://localhost:8080/"
        },
        "id": "9jKJxY2OaZ7-",
        "outputId": "e7998ff8-2e10-431c-896d-a775b111b0ac"
      },
      "outputs": [
        {
          "output_type": "stream",
          "name": "stdout",
          "text": [
            "Drive already mounted at /content/drive; to attempt to forcibly remount, call drive.mount(\"/content/drive\", force_remount=True).\n"
          ]
        }
      ],
      "source": [
        "from google.colab import drive\n",
        "drive.mount('/content/drive')"
      ]
    },
    {
      "cell_type": "code",
      "source": [
        "import cv2\n",
        "import numpy as np\n",
        "import matplotlib.pyplot as plt\n",
        "%matplotlib inline\n",
        "import pandas as pd\n",
        "import os"
      ],
      "metadata": {
        "id": "ciEER8hQaqof"
      },
      "execution_count": 41,
      "outputs": []
    },
    {
      "cell_type": "code",
      "source": [
        "# Path to goalvideo file\n",
        "vidcap1 = cv2.VideoCapture(\"/content/goal3_TVoM7DdJ.mp4\")\n",
        "output_path1 = \"/content/drive/MyDrive/goal moments\""
      ],
      "metadata": {
        "id": "LgGKbgi3a4Bc"
      },
      "execution_count": 53,
      "outputs": []
    },
    {
      "cell_type": "code",
      "source": [
        "success, image = vidcap1.read()\n",
        "success"
      ],
      "metadata": {
        "colab": {
          "base_uri": "https://localhost:8080/"
        },
        "id": "cGY0aKsCbYsg",
        "outputId": "a4d4955c-a3d2-42cd-829e-94905f5f636f"
      },
      "execution_count": 54,
      "outputs": [
        {
          "output_type": "execute_result",
          "data": {
            "text/plain": [
              "True"
            ]
          },
          "metadata": {},
          "execution_count": 54
        }
      ]
    },
    {
      "cell_type": "code",
      "source": [
        "frame_count = 0\n",
        "while vidcap1.isOpened():\n",
        "    ret, frame = vidcap1.read()\n",
        "    if not ret:\n",
        "        break\n",
        "\n",
        "    # Save the frame as an image\n",
        "    frame_filename = f\"frame_{frame_count:04d}.jpg\"\n",
        "    cv2.imwrite(os.path.join(output_path1, frame_filename), frame)\n",
        "\n",
        "    frame_count += 1"
      ],
      "metadata": {
        "id": "K7FYaRiAbtWn"
      },
      "execution_count": 55,
      "outputs": []
    },
    {
      "cell_type": "code",
      "source": [
        "# Release the video capture\n",
        "vidcap1.release()\n",
        "\n",
        "print(f\"Total frames extracted: {frame_count}\")"
      ],
      "metadata": {
        "colab": {
          "base_uri": "https://localhost:8080/"
        },
        "id": "TBkzc9VBbwm4",
        "outputId": "fcafff0c-9bc3-47f9-e1be-2eed129c7751"
      },
      "execution_count": 56,
      "outputs": [
        {
          "output_type": "stream",
          "name": "stdout",
          "text": [
            "Total frames extracted: 5454\n"
          ]
        }
      ]
    },
    {
      "cell_type": "code",
      "source": [
        "# Path to video file\n",
        "vidcap2 = cv2.VideoCapture(\"/content/sad_92e0mICW.mp4\")\n",
        "output_path2 = \"/content/drive/MyDrive/loss moments\""
      ],
      "metadata": {
        "id": "JOJzmKYBcbpb"
      },
      "execution_count": 57,
      "outputs": []
    },
    {
      "cell_type": "code",
      "source": [
        "success, image = vidcap2.read()\n",
        "success"
      ],
      "metadata": {
        "colab": {
          "base_uri": "https://localhost:8080/"
        },
        "id": "mnpn2ERpkf-N",
        "outputId": "208a0411-0e05-4ef1-efc7-73ee56869ad7"
      },
      "execution_count": 58,
      "outputs": [
        {
          "output_type": "execute_result",
          "data": {
            "text/plain": [
              "True"
            ]
          },
          "metadata": {},
          "execution_count": 58
        }
      ]
    },
    {
      "cell_type": "code",
      "source": [
        "frame_count = 0\n",
        "while vidcap2.isOpened():\n",
        "    ret, frame = vidcap2.read()\n",
        "    if not ret:\n",
        "        break\n",
        "\n",
        "    # Save the frame as an image\n",
        "    frame_filename = f\"frame_{frame_count:04d}.jpg\"\n",
        "    cv2.imwrite(os.path.join(output_path2, frame_filename), frame)\n",
        "\n",
        "    frame_count += 1"
      ],
      "metadata": {
        "id": "SgewHboOkjFr"
      },
      "execution_count": 59,
      "outputs": []
    },
    {
      "cell_type": "code",
      "source": [
        "# Release the video capture\n",
        "vidcap2.release()\n",
        "\n",
        "print(f\"Total frames extracted: {frame_count}\")"
      ],
      "metadata": {
        "colab": {
          "base_uri": "https://localhost:8080/"
        },
        "id": "5sLeNdU7klui",
        "outputId": "34504a79-fa57-4fa1-a544-7bf16f8fcfaa"
      },
      "execution_count": 60,
      "outputs": [
        {
          "output_type": "stream",
          "name": "stdout",
          "text": [
            "Total frames extracted: 4769\n"
          ]
        }
      ]
    },
    {
      "cell_type": "code",
      "source": [
        "# Path to video file\n",
        "vidcap3 = cv2.VideoCapture(\"/content/happy1_63FjnTqe.mp4\")\n",
        "output_path3 = \"/content/drive/MyDrive/happy moments\""
      ],
      "metadata": {
        "id": "hlrLabx1DeY5"
      },
      "execution_count": 61,
      "outputs": []
    },
    {
      "cell_type": "code",
      "source": [
        "success, image = vidcap3.read()\n",
        "success"
      ],
      "metadata": {
        "colab": {
          "base_uri": "https://localhost:8080/"
        },
        "id": "f2he2FI2D3r8",
        "outputId": "c251f175-056c-4c85-e791-831d109b73aa"
      },
      "execution_count": 62,
      "outputs": [
        {
          "output_type": "execute_result",
          "data": {
            "text/plain": [
              "True"
            ]
          },
          "metadata": {},
          "execution_count": 62
        }
      ]
    },
    {
      "cell_type": "code",
      "source": [
        "frame_count = 0\n",
        "while vidcap3.isOpened():\n",
        "    ret, frame = vidcap3.read()\n",
        "    if not ret:\n",
        "        break\n",
        "\n",
        "    # Save the frame as an image\n",
        "    frame_filename = f\"frame_{frame_count:04d}.jpg\"\n",
        "    cv2.imwrite(os.path.join(output_path3, frame_filename), frame)\n",
        "\n",
        "    frame_count += 1"
      ],
      "metadata": {
        "id": "dOlYQvWqD4J_"
      },
      "execution_count": 63,
      "outputs": []
    },
    {
      "cell_type": "code",
      "source": [
        "# Release the video capture\n",
        "vidcap3.release()\n",
        "\n",
        "print(f\"Total frames extracted: {frame_count}\")"
      ],
      "metadata": {
        "colab": {
          "base_uri": "https://localhost:8080/"
        },
        "id": "kNdMUNX-D6yp",
        "outputId": "6918ae5d-db5d-43c1-c7b7-08bb45edf8d6"
      },
      "execution_count": 64,
      "outputs": [
        {
          "output_type": "stream",
          "name": "stdout",
          "text": [
            "Total frames extracted: 1826\n"
          ]
        }
      ]
    },
    {
      "cell_type": "code",
      "source": [
        "#created separate frames for goal moments,loss moments and happy moments"
      ],
      "metadata": {
        "id": "R1frZwwvIboe"
      },
      "execution_count": 65,
      "outputs": []
    }
  ]
}